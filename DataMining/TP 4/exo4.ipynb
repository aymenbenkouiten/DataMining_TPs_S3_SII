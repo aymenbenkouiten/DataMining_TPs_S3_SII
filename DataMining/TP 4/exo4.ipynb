{
 "cells": [
  {
   "cell_type": "markdown",
   "metadata": {},
   "source": [
    "# **PART 1 : Data Cleaning**"
   ]
  },
  {
   "cell_type": "code",
   "execution_count": 2,
   "metadata": {},
   "outputs": [],
   "source": [
    "import pandas as pd\n",
    "from itertools import combinations"
   ]
  },
  {
   "cell_type": "code",
   "execution_count": 3,
   "metadata": {},
   "outputs": [
    {
     "name": "stdout",
     "output_type": "stream",
     "text": [
      "    Watcher  videoCategoryId     videoCategoryLabel definition\n",
      "0     Billy             29.0  Nonprofits & Activism         hd\n",
      "1     Leila             22.0         People & Blogs         sd\n",
      "2     Billy             22.0         People & Blogs         sd\n",
      "3      Mark             24.0          Entertainment         hd\n",
      "4     Billy             24.0          Entertainment         hd\n",
      "..      ...              ...                    ...        ...\n",
      "994     NaN              NaN                    NaN        NaN\n",
      "995     NaN              NaN                    NaN        NaN\n",
      "996     NaN              NaN                    NaN        NaN\n",
      "997     NaN              NaN                    NaN        NaN\n",
      "998     NaN              NaN                    NaN        NaN\n",
      "\n",
      "[999 rows x 4 columns]\n"
     ]
    }
   ],
   "source": [
    "def charger_dataset(file_name):\n",
    "    \"\"\"Charge un fichier CSV et retourne le df.\"\"\"\n",
    "    with open(file_name, 'r') as f:\n",
    "        df = pd.read_csv(f, delimiter=',')\n",
    "        return df\n",
    "    \n",
    "print(charger_dataset('Dataset-Exos2.csv'))"
   ]
  },
  {
   "cell_type": "code",
   "execution_count": 4,
   "metadata": {},
   "outputs": [
    {
     "name": "stdout",
     "output_type": "stream",
     "text": [
      "Nombre de transactions :  999\n",
      "Nombre d'items :  13\n"
     ]
    }
   ],
   "source": [
    "dataset2 = charger_dataset('Dataset-Exos2.csv')\n",
    "# Nombre de transactions (nombre de lignes)\n",
    "nombre_de_transactions = len(dataset2)\n",
    "# Nombre d'items (nombre de valeurs distinctes dans la colonne \"videoCategoryId\")\n",
    "nombre_d_items = dataset2['videoCategoryId'].nunique()\n",
    "print(\"Nombre de transactions : \", nombre_de_transactions)\n",
    "print(\"Nombre d'items : \", nombre_d_items)"
   ]
  },
  {
   "cell_type": "code",
   "execution_count": 5,
   "metadata": {},
   "outputs": [
    {
     "data": {
      "text/html": [
       "<div>\n",
       "<style scoped>\n",
       "    .dataframe tbody tr th:only-of-type {\n",
       "        vertical-align: middle;\n",
       "    }\n",
       "\n",
       "    .dataframe tbody tr th {\n",
       "        vertical-align: top;\n",
       "    }\n",
       "\n",
       "    .dataframe thead th {\n",
       "        text-align: right;\n",
       "    }\n",
       "</style>\n",
       "<table border=\"1\" class=\"dataframe\">\n",
       "  <thead>\n",
       "    <tr style=\"text-align: right;\">\n",
       "      <th></th>\n",
       "      <th>Watcher</th>\n",
       "      <th>videoCategoryId</th>\n",
       "      <th>videoCategoryLabel</th>\n",
       "      <th>definition</th>\n",
       "    </tr>\n",
       "  </thead>\n",
       "  <tbody>\n",
       "    <tr>\n",
       "      <th>0</th>\n",
       "      <td>Billy</td>\n",
       "      <td>29.0</td>\n",
       "      <td>Nonprofits &amp; Activism</td>\n",
       "      <td>hd</td>\n",
       "    </tr>\n",
       "    <tr>\n",
       "      <th>1</th>\n",
       "      <td>Leila</td>\n",
       "      <td>22.0</td>\n",
       "      <td>People &amp; Blogs</td>\n",
       "      <td>sd</td>\n",
       "    </tr>\n",
       "    <tr>\n",
       "      <th>2</th>\n",
       "      <td>Billy</td>\n",
       "      <td>22.0</td>\n",
       "      <td>People &amp; Blogs</td>\n",
       "      <td>sd</td>\n",
       "    </tr>\n",
       "    <tr>\n",
       "      <th>3</th>\n",
       "      <td>Mark</td>\n",
       "      <td>24.0</td>\n",
       "      <td>Entertainment</td>\n",
       "      <td>hd</td>\n",
       "    </tr>\n",
       "    <tr>\n",
       "      <th>4</th>\n",
       "      <td>Billy</td>\n",
       "      <td>24.0</td>\n",
       "      <td>Entertainment</td>\n",
       "      <td>hd</td>\n",
       "    </tr>\n",
       "    <tr>\n",
       "      <th>5</th>\n",
       "      <td>Jane</td>\n",
       "      <td>24.0</td>\n",
       "      <td>Entertainment</td>\n",
       "      <td>hd</td>\n",
       "    </tr>\n",
       "    <tr>\n",
       "      <th>6</th>\n",
       "      <td>Babs</td>\n",
       "      <td>22.0</td>\n",
       "      <td>People &amp; Blogs</td>\n",
       "      <td>hd</td>\n",
       "    </tr>\n",
       "    <tr>\n",
       "      <th>7</th>\n",
       "      <td>Jeff</td>\n",
       "      <td>25.0</td>\n",
       "      <td>News &amp; Politics</td>\n",
       "      <td>hd</td>\n",
       "    </tr>\n",
       "    <tr>\n",
       "      <th>9</th>\n",
       "      <td>Leila</td>\n",
       "      <td>28.0</td>\n",
       "      <td>Science &amp; Technology</td>\n",
       "      <td>hd</td>\n",
       "    </tr>\n",
       "    <tr>\n",
       "      <th>10</th>\n",
       "      <td>Jane</td>\n",
       "      <td>27.0</td>\n",
       "      <td>Education</td>\n",
       "      <td>hd</td>\n",
       "    </tr>\n",
       "  </tbody>\n",
       "</table>\n",
       "</div>"
      ],
      "text/plain": [
       "   Watcher  videoCategoryId     videoCategoryLabel definition\n",
       "0    Billy             29.0  Nonprofits & Activism         hd\n",
       "1    Leila             22.0         People & Blogs         sd\n",
       "2    Billy             22.0         People & Blogs         sd\n",
       "3     Mark             24.0          Entertainment         hd\n",
       "4    Billy             24.0          Entertainment         hd\n",
       "5     Jane             24.0          Entertainment         hd\n",
       "6     Babs             22.0         People & Blogs         hd\n",
       "7     Jeff             25.0        News & Politics         hd\n",
       "9    Leila             28.0   Science & Technology         hd\n",
       "10    Jane             27.0              Education         hd"
      ]
     },
     "execution_count": 5,
     "metadata": {},
     "output_type": "execute_result"
    }
   ],
   "source": [
    "def pretraitement(dataset):\n",
    "    # Supprimer les lignes contenant des valeurs manquantes (NaN)\n",
    "    dataset.dropna(inplace=True) \n",
    "    return dataset\n",
    "\n",
    "dataset2 = pretraitement(dataset2)\n",
    "len(dataset2)\n",
    "dataset2.head(10)"
   ]
  },
  {
   "cell_type": "code",
   "execution_count": 6,
   "metadata": {},
   "outputs": [
    {
     "data": {
      "text/html": [
       "<div>\n",
       "<style scoped>\n",
       "    .dataframe tbody tr th:only-of-type {\n",
       "        vertical-align: middle;\n",
       "    }\n",
       "\n",
       "    .dataframe tbody tr th {\n",
       "        vertical-align: top;\n",
       "    }\n",
       "\n",
       "    .dataframe thead th {\n",
       "        text-align: right;\n",
       "    }\n",
       "</style>\n",
       "<table border=\"1\" class=\"dataframe\">\n",
       "  <thead>\n",
       "    <tr style=\"text-align: right;\">\n",
       "      <th></th>\n",
       "      <th>Transaction</th>\n",
       "      <th>Items</th>\n",
       "    </tr>\n",
       "  </thead>\n",
       "  <tbody>\n",
       "    <tr>\n",
       "      <th>0</th>\n",
       "      <td>Adam</td>\n",
       "      <td>{22.0}</td>\n",
       "    </tr>\n",
       "    <tr>\n",
       "      <th>1</th>\n",
       "      <td>Alex</td>\n",
       "      <td>{22.0}</td>\n",
       "    </tr>\n",
       "    <tr>\n",
       "      <th>2</th>\n",
       "      <td>Amy</td>\n",
       "      <td>{22.0}</td>\n",
       "    </tr>\n",
       "    <tr>\n",
       "      <th>3</th>\n",
       "      <td>Babs</td>\n",
       "      <td>{22.0}</td>\n",
       "    </tr>\n",
       "    <tr>\n",
       "      <th>4</th>\n",
       "      <td>Ben</td>\n",
       "      <td>{22.0}</td>\n",
       "    </tr>\n",
       "    <tr>\n",
       "      <th>5</th>\n",
       "      <td>Billy</td>\n",
       "      <td>{22.0, 24.0, 26.0, 28.0, 29.0}</td>\n",
       "    </tr>\n",
       "    <tr>\n",
       "      <th>6</th>\n",
       "      <td>Bob</td>\n",
       "      <td>{27.0, 28.0, 22.0}</td>\n",
       "    </tr>\n",
       "    <tr>\n",
       "      <th>7</th>\n",
       "      <td>Brad</td>\n",
       "      <td>{10.0, 28.0, 29.0, 22.0}</td>\n",
       "    </tr>\n",
       "    <tr>\n",
       "      <th>8</th>\n",
       "      <td>Chandler</td>\n",
       "      <td>{28.0}</td>\n",
       "    </tr>\n",
       "    <tr>\n",
       "      <th>9</th>\n",
       "      <td>Clark</td>\n",
       "      <td>{28.0, 22.0}</td>\n",
       "    </tr>\n",
       "  </tbody>\n",
       "</table>\n",
       "</div>"
      ],
      "text/plain": [
       "  Transaction                           Items\n",
       "0        Adam                          {22.0}\n",
       "1        Alex                          {22.0}\n",
       "2         Amy                          {22.0}\n",
       "3        Babs                          {22.0}\n",
       "4         Ben                          {22.0}\n",
       "5       Billy  {22.0, 24.0, 26.0, 28.0, 29.0}\n",
       "6         Bob              {27.0, 28.0, 22.0}\n",
       "7        Brad        {10.0, 28.0, 29.0, 22.0}\n",
       "8    Chandler                          {28.0}\n",
       "9       Clark                    {28.0, 22.0}"
      ]
     },
     "execution_count": 6,
     "metadata": {},
     "output_type": "execute_result"
    }
   ],
   "source": [
    "dataset2_bis = dataset2.groupby('Watcher')['videoCategoryId'].apply(set).reset_index()\n",
    "#renaming the columns\n",
    "dataset2_bis.rename(columns={'Watcher':'Transaction','videoCategoryId':'Items'},inplace=True)\n",
    "dataset2_bis.head(10)"
   ]
  },
  {
   "cell_type": "code",
   "execution_count": 7,
   "metadata": {},
   "outputs": [
    {
     "name": "stdout",
     "output_type": "stream",
     "text": [
      "le nombre de transaction est : 39\n",
      "le nombre d'item : 12\n"
     ]
    },
    {
     "data": {
      "text/plain": [
       "array([22.0, 24.0, 26.0, 28.0, 29.0, 27.0, 10.0, 20.0, 25.0, 1.0, 23.0,\n",
       "       17.0], dtype=object)"
      ]
     },
     "execution_count": 7,
     "metadata": {},
     "output_type": "execute_result"
    }
   ],
   "source": [
    "n = len(dataset2_bis)\n",
    "print('le nombre de transaction est :', n)\n",
    "len_items = dataset2_bis['Items'].explode().unique()\n",
    "print(\"le nombre d'item :\", len(len_items))\n",
    "len_items"
   ]
  },
  {
   "cell_type": "markdown",
   "metadata": {},
   "source": [
    "# **PART 2 : Apriori**"
   ]
  },
  {
   "cell_type": "code",
   "execution_count": 8,
   "metadata": {},
   "outputs": [],
   "source": [
    "def generate_candidates(k):\n",
    "    \"\"\"\n",
    "    Génère les k-itemsets candidats Ck à partir du dataset.\n",
    "    \n",
    "    :param dataset: Le dataset au format transactionnel\n",
    "    :param k: La taille des itemsets candidats à générer (k)\n",
    "    \n",
    "    :return: Liste des k-itemsets candidats Ck\n",
    "    \"\"\"\n",
    "    ck = []\n",
    "    # Créer un ensemble de tous les items uniques présents dans le dataset \n",
    "    items = set()\n",
    "    for i in dataset2_bis['Items']:\n",
    "        for j in i:\n",
    "            items.add(j)\n",
    "    items = list(items)\n",
    "    # Générer les combinaisons d'items de taille k\n",
    "    comb = combinations(items, k)\n",
    "    # Ajouter les combinaisons d'items de taille k à la liste ck\n",
    "    for i in list(comb):\n",
    "        ck.append(i)\n",
    "    return ck"
   ]
  },
  {
   "cell_type": "markdown",
   "metadata": {},
   "source": [
    "Support : Il s'agit de la fréquence avec laquelle une combinaison d'articles (ou items) apparaît dans l'ensemble des transactions. Le support est utilisé pour identifier les éléments fréquents."
   ]
  },
  {
   "cell_type": "code",
   "execution_count": 9,
   "metadata": {},
   "outputs": [],
   "source": [
    "def calculate_support(dataset, candidates):\n",
    "    \"\"\"\n",
    "    Calcule le support de chaque k-itemset candidat dans le dataset.\n",
    "    \n",
    "    :param dataset: Le dataset au format transactionnel\n",
    "    :param candidates: Liste des k-itemsets candidats Ck\n",
    "    :return: Un dictionnaire contenant les supports de chaque k-itemset\n",
    "    \"\"\"\n",
    "    support_counts = {}  # Dictionnaire pour stocker le support de chaque k-itemset\n",
    "    \n",
    "    for candidate in candidates:\n",
    "        candidate_set = set(candidate)\n",
    "        for index, row in dataset.iterrows():\n",
    "            if candidate_set.issubset(row['Items']):\n",
    "                if tuple(candidate) in support_counts:\n",
    "                    support_counts[tuple(candidate)] += 1\n",
    "                else:\n",
    "                    support_counts[tuple(candidate)] = 1\n",
    "    \n",
    "    return support_counts"
   ]
  },
  {
   "cell_type": "code",
   "execution_count": 10,
   "metadata": {},
   "outputs": [],
   "source": [
    "def generate_frequent_itemsets(support_counts, min_support):\n",
    "    \"\"\"\n",
    "    Génère les k-itemsets fréquents Lk à partir des supports des k-itemsets candidats.\n",
    "    \n",
    "    :param support_counts: Dictionnaire contenant les supports de chaque k-itemset\n",
    "    :param min_support: Le support minimum pour qu'un k-itemset soit considéré comme fréquent\n",
    "    :return: Liste des k-itemsets fréquents Lk\n",
    "    \"\"\"\n",
    "    Lk = []  # Liste des k-itemsets fréquents\n",
    "    \n",
    "    for candidate, support in support_counts.items():\n",
    "        if support >= min_support:\n",
    "            Lk.append(candidate)\n",
    "    \n",
    "    return Lk"
   ]
  },
  {
   "cell_type": "code",
   "execution_count": 14,
   "metadata": {},
   "outputs": [
    {
     "name": "stdout",
     "output_type": "stream",
     "text": [
      "C2 : [(1.0, 10.0), (1.0, 17.0), (1.0, 20.0), (1.0, 22.0), (1.0, 23.0), (1.0, 24.0), (1.0, 25.0), (1.0, 26.0), (1.0, 27.0), (1.0, 28.0), (1.0, 29.0), (10.0, 17.0), (10.0, 20.0), (10.0, 22.0), (10.0, 23.0), (10.0, 24.0), (10.0, 25.0), (10.0, 26.0), (10.0, 27.0), (10.0, 28.0), (10.0, 29.0), (17.0, 20.0), (17.0, 22.0), (17.0, 23.0), (17.0, 24.0), (17.0, 25.0), (17.0, 26.0), (17.0, 27.0), (17.0, 28.0), (17.0, 29.0), (20.0, 22.0), (20.0, 23.0), (20.0, 24.0), (20.0, 25.0), (20.0, 26.0), (20.0, 27.0), (20.0, 28.0), (20.0, 29.0), (22.0, 23.0), (22.0, 24.0), (22.0, 25.0), (22.0, 26.0), (22.0, 27.0), (22.0, 28.0), (22.0, 29.0), (23.0, 24.0), (23.0, 25.0), (23.0, 26.0), (23.0, 27.0), (23.0, 28.0), (23.0, 29.0), (24.0, 25.0), (24.0, 26.0), (24.0, 27.0), (24.0, 28.0), (24.0, 29.0), (25.0, 26.0), (25.0, 27.0), (25.0, 28.0), (25.0, 29.0), (26.0, 27.0), (26.0, 28.0), (26.0, 29.0), (27.0, 28.0), (27.0, 29.0), (28.0, 29.0)]\n",
      "support_counts : {(1.0, 22.0): 1, (1.0, 23.0): 1, (1.0, 28.0): 1, (1.0, 29.0): 1, (10.0, 22.0): 2, (10.0, 28.0): 2, (10.0, 29.0): 2, (17.0, 22.0): 1, (17.0, 25.0): 1, (17.0, 27.0): 1, (17.0, 28.0): 1, (17.0, 29.0): 1, (20.0, 24.0): 1, (20.0, 25.0): 1, (20.0, 27.0): 1, (20.0, 28.0): 1, (22.0, 23.0): 1, (22.0, 24.0): 4, (22.0, 25.0): 2, (22.0, 26.0): 1, (22.0, 27.0): 5, (22.0, 28.0): 17, (22.0, 29.0): 8, (23.0, 28.0): 1, (23.0, 29.0): 1, (24.0, 25.0): 3, (24.0, 26.0): 1, (24.0, 27.0): 3, (24.0, 28.0): 4, (24.0, 29.0): 3, (25.0, 27.0): 3, (25.0, 28.0): 3, (25.0, 29.0): 2, (26.0, 28.0): 1, (26.0, 29.0): 1, (27.0, 28.0): 5, (27.0, 29.0): 3, (28.0, 29.0): 9}\n",
      "L2 : [(22.0, 27.0), (22.0, 28.0), (22.0, 29.0), (27.0, 28.0), (28.0, 29.0)]\n"
     ]
    }
   ],
   "source": [
    "# testing the functions \n",
    "C2 = generate_candidates(2)\n",
    "print(\"C2 :\", C2)\n",
    "support_counts = calculate_support(dataset2_bis, C2)\n",
    "print(\"support_counts :\", support_counts)\n",
    "L2 = generate_frequent_itemsets(support_counts, 5)\n",
    "print(\"L2 :\", L2)"
   ]
  },
  {
   "cell_type": "markdown",
   "metadata": {},
   "source": [
    "# **Partie 03 : Règles d'association**\n",
    "Les règles d'association sont utilisées dans l'exploration de données pour découvrir des relations fréquentes entre les variables d'un ensemble de données."
   ]
  },
  {
   "cell_type": "code",
   "execution_count": 15,
   "metadata": {},
   "outputs": [],
   "source": [
    "def generate_association_rules(Lk):\n",
    "    association_rules = []\n",
    "    for itemset in Lk:\n",
    "        # convert type to set \n",
    "        itemset = set(itemset)\n",
    "        if len(itemset) > 1:\n",
    "            for i in range(1, len(itemset)):\n",
    "                for antecedent in combinations(itemset, i):\n",
    "                    antecedent = set(antecedent)\n",
    "                    consequent = itemset - antecedent\n",
    "                    association_rules.append((antecedent, consequent))\n",
    "    return association_rules"
   ]
  },
  {
   "cell_type": "code",
   "execution_count": 16,
   "metadata": {},
   "outputs": [
    {
     "data": {
      "text/html": [
       "<div>\n",
       "<style scoped>\n",
       "    .dataframe tbody tr th:only-of-type {\n",
       "        vertical-align: middle;\n",
       "    }\n",
       "\n",
       "    .dataframe tbody tr th {\n",
       "        vertical-align: top;\n",
       "    }\n",
       "\n",
       "    .dataframe thead th {\n",
       "        text-align: right;\n",
       "    }\n",
       "</style>\n",
       "<table border=\"1\" class=\"dataframe\">\n",
       "  <thead>\n",
       "    <tr style=\"text-align: right;\">\n",
       "      <th></th>\n",
       "      <th>Antecedent</th>\n",
       "      <th>Consequent</th>\n",
       "    </tr>\n",
       "  </thead>\n",
       "  <tbody>\n",
       "    <tr>\n",
       "      <th>0</th>\n",
       "      <td>{28.0}</td>\n",
       "      <td>{29.0, 22.0}</td>\n",
       "    </tr>\n",
       "    <tr>\n",
       "      <th>1</th>\n",
       "      <td>{29.0}</td>\n",
       "      <td>{28.0, 22.0}</td>\n",
       "    </tr>\n",
       "    <tr>\n",
       "      <th>2</th>\n",
       "      <td>{22.0}</td>\n",
       "      <td>{28.0, 29.0}</td>\n",
       "    </tr>\n",
       "    <tr>\n",
       "      <th>3</th>\n",
       "      <td>{28.0, 29.0}</td>\n",
       "      <td>{22.0}</td>\n",
       "    </tr>\n",
       "    <tr>\n",
       "      <th>4</th>\n",
       "      <td>{28.0, 22.0}</td>\n",
       "      <td>{29.0}</td>\n",
       "    </tr>\n",
       "    <tr>\n",
       "      <th>5</th>\n",
       "      <td>{29.0, 22.0}</td>\n",
       "      <td>{28.0}</td>\n",
       "    </tr>\n",
       "  </tbody>\n",
       "</table>\n",
       "</div>"
      ],
      "text/plain": [
       "     Antecedent    Consequent\n",
       "0        {28.0}  {29.0, 22.0}\n",
       "1        {29.0}  {28.0, 22.0}\n",
       "2        {22.0}  {28.0, 29.0}\n",
       "3  {28.0, 29.0}        {22.0}\n",
       "4  {28.0, 22.0}        {29.0}\n",
       "5  {29.0, 22.0}        {28.0}"
      ]
     },
     "execution_count": 16,
     "metadata": {},
     "output_type": "execute_result"
    }
   ],
   "source": [
    "C3 = generate_candidates(3)\n",
    "L3 = generate_frequent_itemsets(calculate_support(dataset2_bis, C3), 5)\n",
    "association_rules = generate_association_rules(L3)\n",
    "\n",
    "# create a dataframe to store the result\n",
    "association_rules_df = pd.DataFrame(columns=['Antecedent', 'Consequent'])\n",
    "association_rules_df['Antecedent'] = [antecedent for antecedent, consequent in association_rules]\n",
    "association_rules_df['Consequent'] = [consequent for antecedent, consequent in association_rules]\n",
    "association_rules_df.head(20)"
   ]
  },
  {
   "cell_type": "markdown",
   "metadata": {},
   "source": [
    "Confiance : La confiance mesure la probabilité conditionnelle que, si un client achète un ensemble d'articles, il achètera également un autre article. \n",
    "\n",
    "Confiance (A ⇒ B) = P(B/A) = support(A ∪ B) / support(A)"
   ]
  },
  {
   "cell_type": "code",
   "execution_count": 13,
   "metadata": {},
   "outputs": [
    {
     "data": {
      "text/html": [
       "<div>\n",
       "<style scoped>\n",
       "    .dataframe tbody tr th:only-of-type {\n",
       "        vertical-align: middle;\n",
       "    }\n",
       "\n",
       "    .dataframe tbody tr th {\n",
       "        vertical-align: top;\n",
       "    }\n",
       "\n",
       "    .dataframe thead th {\n",
       "        text-align: right;\n",
       "    }\n",
       "</style>\n",
       "<table border=\"1\" class=\"dataframe\">\n",
       "  <thead>\n",
       "    <tr style=\"text-align: right;\">\n",
       "      <th></th>\n",
       "      <th>Antecedent</th>\n",
       "      <th>Consequent</th>\n",
       "      <th>Confidence</th>\n",
       "    </tr>\n",
       "  </thead>\n",
       "  <tbody>\n",
       "    <tr>\n",
       "      <th>0</th>\n",
       "      <td>{28.0}</td>\n",
       "      <td>{29.0, 22.0}</td>\n",
       "      <td>0.333333</td>\n",
       "    </tr>\n",
       "    <tr>\n",
       "      <th>1</th>\n",
       "      <td>{29.0}</td>\n",
       "      <td>{28.0, 22.0}</td>\n",
       "      <td>0.888889</td>\n",
       "    </tr>\n",
       "    <tr>\n",
       "      <th>2</th>\n",
       "      <td>{22.0}</td>\n",
       "      <td>{28.0, 29.0}</td>\n",
       "      <td>0.266667</td>\n",
       "    </tr>\n",
       "    <tr>\n",
       "      <th>3</th>\n",
       "      <td>{28.0, 29.0}</td>\n",
       "      <td>{22.0}</td>\n",
       "      <td>0.888889</td>\n",
       "    </tr>\n",
       "    <tr>\n",
       "      <th>4</th>\n",
       "      <td>{28.0, 22.0}</td>\n",
       "      <td>{29.0}</td>\n",
       "      <td>0.470588</td>\n",
       "    </tr>\n",
       "    <tr>\n",
       "      <th>5</th>\n",
       "      <td>{29.0, 22.0}</td>\n",
       "      <td>{28.0}</td>\n",
       "      <td>1.000000</td>\n",
       "    </tr>\n",
       "  </tbody>\n",
       "</table>\n",
       "</div>"
      ],
      "text/plain": [
       "     Antecedent    Consequent  Confidence\n",
       "0        {28.0}  {29.0, 22.0}    0.333333\n",
       "1        {29.0}  {28.0, 22.0}    0.888889\n",
       "2        {22.0}  {28.0, 29.0}    0.266667\n",
       "3  {28.0, 29.0}        {22.0}    0.888889\n",
       "4  {28.0, 22.0}        {29.0}    0.470588\n",
       "5  {29.0, 22.0}        {28.0}    1.000000"
      ]
     },
     "execution_count": 13,
     "metadata": {},
     "output_type": "execute_result"
    }
   ],
   "source": [
    "def calculate_confidence(transaction_data, antecedent, consequent):\n",
    "    # Nombre de transactions contenant l'antécédent et le conséquent\n",
    "    support_A_and_B = sum(1 for transaction in transaction_data if antecedent.issubset(transaction) and consequent.issubset(transaction))\n",
    "    \n",
    "    # Nombre de transactions contenant l'antécédent\n",
    "    support_A = sum(1 for transaction in transaction_data if antecedent.issubset(transaction))\n",
    "    \n",
    "    # Calcul de la confiance\n",
    "    confidence = support_A_and_B / support_A if support_A > 0 else 0\n",
    "    return confidence\n",
    "\n",
    "# print the result\n",
    "association_rules_df['Confidence'] = association_rules_df.apply(lambda x: calculate_confidence(dataset2_bis['Items'], x['Antecedent'], x['Consequent']), axis=1)\n",
    "association_rules_df.head(20)"
   ]
  },
  {
   "cell_type": "code",
   "execution_count": 20,
   "metadata": {},
   "outputs": [
    {
     "name": "stdout",
     "output_type": "stream",
     "text": [
      "     Antecedent    Consequent  Support_A_and_B  Support_A  Confidence\n",
      "0        {28.0}  {29.0, 22.0}                8         24    0.333333\n",
      "1        {29.0}  {28.0, 22.0}                8          9    0.888889\n",
      "2        {22.0}  {28.0, 29.0}                8         30    0.266667\n",
      "3  {28.0, 29.0}        {22.0}                8          9    0.888889\n",
      "4  {28.0, 22.0}        {29.0}                8         17    0.470588\n",
      "5  {29.0, 22.0}        {28.0}                8          8    1.000000\n"
     ]
    }
   ],
   "source": [
    "def calculate_confidence(transaction_data, antecedent, consequent):\n",
    "    # Nombre de transactions contenant l'antécédent et le conséquent\n",
    "    support_A_and_B = sum(1 for transaction in transaction_data if antecedent.issubset(transaction) and consequent.issubset(transaction))\n",
    "    \n",
    "    # Nombre de transactions contenant l'antécédent\n",
    "    support_A = sum(1 for transaction in transaction_data if antecedent.issubset(transaction))\n",
    "    \n",
    "    # Calcul de la confiance\n",
    "    confidence = support_A_and_B / support_A if support_A > 0 else 0\n",
    "    return support_A_and_B, support_A, confidence  # Retourner les valeurs dans un tuple\n",
    "\n",
    "# Appliquer la fonction calculate_confidence et stocker les résultats dans des listes\n",
    "results = association_rules_df.apply(lambda x: calculate_confidence(dataset2_bis['Items'], x['Antecedent'], x['Consequent']), axis=1)\n",
    "\n",
    "# Diviser les valeurs du tuple dans différentes listes\n",
    "support_A_and_B_values = [res[0] for res in results]\n",
    "support_A_values = [res[1] for res in results]\n",
    "confidence_values = [res[2] for res in results]\n",
    "\n",
    "# Ajouter les nouvelles colonnes avec les valeurs calculées\n",
    "association_rules_df['Support_A_and_B'] = support_A_and_B_values\n",
    "association_rules_df['Support_A'] = support_A_values\n",
    "association_rules_df['Confidence'] = confidence_values\n",
    "\n",
    "# Afficher les premières lignes du DataFrame avec les nouvelles colonnes ajoutées\n",
    "print(association_rules_df.head(20))\n"
   ]
  }
 ],
 "metadata": {
  "kernelspec": {
   "display_name": "Python 3",
   "language": "python",
   "name": "python3"
  },
  "language_info": {
   "codemirror_mode": {
    "name": "ipython",
    "version": 3
   },
   "file_extension": ".py",
   "mimetype": "text/x-python",
   "name": "python",
   "nbconvert_exporter": "python",
   "pygments_lexer": "ipython3",
   "version": "3.9.1"
  }
 },
 "nbformat": 4,
 "nbformat_minor": 2
}
